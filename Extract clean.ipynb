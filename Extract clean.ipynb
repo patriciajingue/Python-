{
 "cells": [
  {
   "cell_type": "code",
   "execution_count": 8,
   "id": "31a56b92",
   "metadata": {},
   "outputs": [],
   "source": [
    "import numpy as np\n",
    "import pandas as pd\n",
    "import matplotlib.pyplot as plt\n",
    "import seaborn as sns\n",
    "import plotly.express as px\n",
    "import plotly.io as pio\n",
    "import warnings\n",
    "warnings.filterwarnings(\"ignore\")"
   ]
  },
  {
   "cell_type": "code",
   "execution_count": 3,
   "id": "6b7918fb",
   "metadata": {},
   "outputs": [
    {
     "name": "stdout",
     "output_type": "stream",
     "text": [
      "C:\\Users\\18329\\Downloads\n"
     ]
    }
   ],
   "source": [
    "cd Downloads"
   ]
  },
  {
   "cell_type": "code",
   "execution_count": 4,
   "id": "b57af4d5",
   "metadata": {},
   "outputs": [],
   "source": [
    "df= pd.read_excel('dfclean.xlsx')"
   ]
  },
  {
   "cell_type": "code",
   "execution_count": 5,
   "id": "cf1fab0c",
   "metadata": {},
   "outputs": [
    {
     "data": {
      "text/html": [
       "<div>\n",
       "<style scoped>\n",
       "    .dataframe tbody tr th:only-of-type {\n",
       "        vertical-align: middle;\n",
       "    }\n",
       "\n",
       "    .dataframe tbody tr th {\n",
       "        vertical-align: top;\n",
       "    }\n",
       "\n",
       "    .dataframe thead th {\n",
       "        text-align: right;\n",
       "    }\n",
       "</style>\n",
       "<table border=\"1\" class=\"dataframe\">\n",
       "  <thead>\n",
       "    <tr style=\"text-align: right;\">\n",
       "      <th></th>\n",
       "      <th>SAMPWEIGHT</th>\n",
       "      <th>AGE</th>\n",
       "      <th>SEX</th>\n",
       "      <th>RACEA</th>\n",
       "      <th>EDUC</th>\n",
       "      <th>Income</th>\n",
       "      <th>BMI</th>\n",
       "      <th>BWGTGRAM</th>\n",
       "      <th>Medicare</th>\n",
       "    </tr>\n",
       "  </thead>\n",
       "  <tbody>\n",
       "    <tr>\n",
       "      <th>0</th>\n",
       "      <td>8702</td>\n",
       "      <td>17</td>\n",
       "      <td>Female</td>\n",
       "      <td>White</td>\n",
       "      <td>Eleven Grade</td>\n",
       "      <td>74999</td>\n",
       "      <td>0</td>\n",
       "      <td>2580</td>\n",
       "      <td>PreNatal</td>\n",
       "    </tr>\n",
       "    <tr>\n",
       "      <th>1</th>\n",
       "      <td>1486</td>\n",
       "      <td>17</td>\n",
       "      <td>Male</td>\n",
       "      <td>White</td>\n",
       "      <td>Eleven Grade</td>\n",
       "      <td>34999</td>\n",
       "      <td>0</td>\n",
       "      <td>3005</td>\n",
       "      <td>PreNatal</td>\n",
       "    </tr>\n",
       "    <tr>\n",
       "      <th>2</th>\n",
       "      <td>1406</td>\n",
       "      <td>16</td>\n",
       "      <td>Female</td>\n",
       "      <td>White</td>\n",
       "      <td>Ten Grade</td>\n",
       "      <td>74999</td>\n",
       "      <td>0</td>\n",
       "      <td>2438</td>\n",
       "      <td>PreNatal</td>\n",
       "    </tr>\n",
       "    <tr>\n",
       "      <th>3</th>\n",
       "      <td>3539</td>\n",
       "      <td>16</td>\n",
       "      <td>Female</td>\n",
       "      <td>White</td>\n",
       "      <td>Nine Grade</td>\n",
       "      <td>34999</td>\n",
       "      <td>0</td>\n",
       "      <td>2212</td>\n",
       "      <td>PreNatal</td>\n",
       "    </tr>\n",
       "    <tr>\n",
       "      <th>4</th>\n",
       "      <td>1274</td>\n",
       "      <td>16</td>\n",
       "      <td>Male</td>\n",
       "      <td>White</td>\n",
       "      <td>Eight Grade</td>\n",
       "      <td>74999</td>\n",
       "      <td>0</td>\n",
       "      <td>3402</td>\n",
       "      <td>No</td>\n",
       "    </tr>\n",
       "    <tr>\n",
       "      <th>...</th>\n",
       "      <td>...</td>\n",
       "      <td>...</td>\n",
       "      <td>...</td>\n",
       "      <td>...</td>\n",
       "      <td>...</td>\n",
       "      <td>...</td>\n",
       "      <td>...</td>\n",
       "      <td>...</td>\n",
       "      <td>...</td>\n",
       "    </tr>\n",
       "    <tr>\n",
       "      <th>13526</th>\n",
       "      <td>17224</td>\n",
       "      <td>16</td>\n",
       "      <td>Female</td>\n",
       "      <td>White</td>\n",
       "      <td>Nine Grade</td>\n",
       "      <td>100000</td>\n",
       "      <td>0</td>\n",
       "      <td>3431</td>\n",
       "      <td>PreNatal</td>\n",
       "    </tr>\n",
       "    <tr>\n",
       "      <th>13527</th>\n",
       "      <td>6416</td>\n",
       "      <td>17</td>\n",
       "      <td>Male</td>\n",
       "      <td>White</td>\n",
       "      <td>Ten Grade</td>\n",
       "      <td>100000</td>\n",
       "      <td>0</td>\n",
       "      <td>3799</td>\n",
       "      <td>PreNatal</td>\n",
       "    </tr>\n",
       "    <tr>\n",
       "      <th>13528</th>\n",
       "      <td>8137</td>\n",
       "      <td>17</td>\n",
       "      <td>Female</td>\n",
       "      <td>White</td>\n",
       "      <td>Eleven Grade</td>\n",
       "      <td>100000</td>\n",
       "      <td>0</td>\n",
       "      <td>3998</td>\n",
       "      <td>PreNatal</td>\n",
       "    </tr>\n",
       "    <tr>\n",
       "      <th>13529</th>\n",
       "      <td>4408</td>\n",
       "      <td>16</td>\n",
       "      <td>Female</td>\n",
       "      <td>Black</td>\n",
       "      <td>Ten Grade</td>\n",
       "      <td>99999</td>\n",
       "      <td>0</td>\n",
       "      <td>3714</td>\n",
       "      <td>PreNatal</td>\n",
       "    </tr>\n",
       "    <tr>\n",
       "      <th>13530</th>\n",
       "      <td>5049</td>\n",
       "      <td>17</td>\n",
       "      <td>Female</td>\n",
       "      <td>White</td>\n",
       "      <td>Eleven Grade</td>\n",
       "      <td>100000</td>\n",
       "      <td>0</td>\n",
       "      <td>9999</td>\n",
       "      <td>PreNatal</td>\n",
       "    </tr>\n",
       "  </tbody>\n",
       "</table>\n",
       "<p>13531 rows × 9 columns</p>\n",
       "</div>"
      ],
      "text/plain": [
       "       SAMPWEIGHT  AGE     SEX  RACEA          EDUC  Income  BMI  BWGTGRAM  \\\n",
       "0            8702   17  Female  White  Eleven Grade   74999    0      2580   \n",
       "1            1486   17    Male  White  Eleven Grade   34999    0      3005   \n",
       "2            1406   16  Female  White     Ten Grade   74999    0      2438   \n",
       "3            3539   16  Female  White    Nine Grade   34999    0      2212   \n",
       "4            1274   16    Male  White   Eight Grade   74999    0      3402   \n",
       "...           ...  ...     ...    ...           ...     ...  ...       ...   \n",
       "13526       17224   16  Female  White    Nine Grade  100000    0      3431   \n",
       "13527        6416   17    Male  White     Ten Grade  100000    0      3799   \n",
       "13528        8137   17  Female  White  Eleven Grade  100000    0      3998   \n",
       "13529        4408   16  Female  Black     Ten Grade   99999    0      3714   \n",
       "13530        5049   17  Female  White  Eleven Grade  100000    0      9999   \n",
       "\n",
       "       Medicare  \n",
       "0      PreNatal  \n",
       "1      PreNatal  \n",
       "2      PreNatal  \n",
       "3      PreNatal  \n",
       "4            No  \n",
       "...         ...  \n",
       "13526  PreNatal  \n",
       "13527  PreNatal  \n",
       "13528  PreNatal  \n",
       "13529  PreNatal  \n",
       "13530  PreNatal  \n",
       "\n",
       "[13531 rows x 9 columns]"
      ]
     },
     "execution_count": 5,
     "metadata": {},
     "output_type": "execute_result"
    }
   ],
   "source": [
    "df"
   ]
  },
  {
   "cell_type": "code",
   "execution_count": 6,
   "id": "55068e81",
   "metadata": {},
   "outputs": [
    {
     "name": "stdout",
     "output_type": "stream",
     "text": [
      "<class 'pandas.core.frame.DataFrame'>\n",
      "RangeIndex: 13531 entries, 0 to 13530\n",
      "Data columns (total 9 columns):\n",
      " #   Column      Non-Null Count  Dtype \n",
      "---  ------      --------------  ----- \n",
      " 0   SAMPWEIGHT  13531 non-null  int64 \n",
      " 1   AGE         13531 non-null  int64 \n",
      " 2   SEX         13531 non-null  object\n",
      " 3   RACEA       13531 non-null  object\n",
      " 4   EDUC        13531 non-null  object\n",
      " 5   Income      13531 non-null  object\n",
      " 6   BMI         13531 non-null  int64 \n",
      " 7   BWGTGRAM    13531 non-null  int64 \n",
      " 8   Medicare    13531 non-null  object\n",
      "dtypes: int64(4), object(5)\n",
      "memory usage: 951.5+ KB\n"
     ]
    }
   ],
   "source": [
    "df.info()"
   ]
  },
  {
   "cell_type": "code",
   "execution_count": 7,
   "id": "106edf73",
   "metadata": {},
   "outputs": [],
   "source": [
    "num_df = df.select_dtypes(include=['int64','float'])\n",
    "cat_df = df.select_dtypes(include=['object'])"
   ]
  },
  {
   "cell_type": "code",
   "execution_count": 11,
   "id": "9edaf891",
   "metadata": {},
   "outputs": [
    {
     "data": {
      "text/plain": [
       "<AxesSubplot:>"
      ]
     },
     "execution_count": 11,
     "metadata": {},
     "output_type": "execute_result"
    },
    {
     "data": {
      "image/png": "[encoded data removed]",
      "text/plain": [
       "<Figure size 1080x576 with 2 Axes>"
      ]
     },
     "metadata": {
      "needs_background": "light"
     },
     "output_type": "display_data"
    }
   ],
   "source": [
    "plt.subplots(figsize = (15,8))\n",
    "sns.heatmap(num_df.corr(),annot= True)"
   ]
  },
  {
   "cell_type": "code",
   "execution_count": null,
   "id": "4c8f4fa0",
   "metadata": {},
   "outputs": [],
   "source": []
  }
 ],
 "metadata": {
  "kernelspec": {
   "display_name": "Python 3",
   "language": "python",
   "name": "python3"
  },
  "language_info": {
   "codemirror_mode": {
    "name": "ipython",
    "version": 3
   },
   "file_extension": ".py",
   "mimetype": "text/x-python",
   "name": "python",
   "nbconvert_exporter": "python",
   "pygments_lexer": "ipython3",
   "version": "3.8.8"
  }
 },
 "nbformat": 4,
 "nbformat_minor": 5
}
