{
 "cells": [
  {
   "cell_type": "code",
   "execution_count": 7,
   "id": "84b79f76",
   "metadata": {
    "scrolled": true
   },
   "outputs": [],
   "source": [
    "import numpy as np\n",
    "import pandas as pd\n",
    "import matplotlib.pyplot as plt\n",
    "import seaborn as sns\n",
    "import plotly.express as px\n",
    "import plotly.io as pio\n",
    "import warnings\n",
    "warnings.filterwarnings(\"ignore\")"
   ]
  },
  {
   "cell_type": "code",
   "execution_count": 8,
   "id": "787bb887",
   "metadata": {
    "scrolled": true
   },
   "outputs": [
    {
     "name": "stdout",
     "output_type": "stream",
     "text": [
      "[WinError 2] The system cannot find the file specified: 'downloads'\n",
      "C:\\Users\\18329\\downloads\n"
     ]
    }
   ],
   "source": [
    "cd downloads"
   ]
  },
  {
   "cell_type": "code",
   "execution_count": 22,
   "id": "ee5c2bc9",
   "metadata": {
    "scrolled": true
   },
   "outputs": [],
   "source": [
    "\n",
    "auto = pd.read_csv('Auto_clean.csv')"
   ]
  },
  {
   "cell_type": "code",
   "execution_count": 23,
   "id": "d20c5013",
   "metadata": {
    "scrolled": true
   },
   "outputs": [
    {
     "data": {
      "text/html": [
       "<div>\n",
       "<style scoped>\n",
       "    .dataframe tbody tr th:only-of-type {\n",
       "        vertical-align: middle;\n",
       "    }\n",
       "\n",
       "    .dataframe tbody tr th {\n",
       "        vertical-align: top;\n",
       "    }\n",
       "\n",
       "    .dataframe thead th {\n",
       "        text-align: right;\n",
       "    }\n",
       "</style>\n",
       "<table border=\"1\" class=\"dataframe\">\n",
       "  <thead>\n",
       "    <tr style=\"text-align: right;\">\n",
       "      <th></th>\n",
       "      <th>symboling</th>\n",
       "      <th>normalized-losses</th>\n",
       "      <th>make</th>\n",
       "      <th>fuel-type</th>\n",
       "      <th>aspiration</th>\n",
       "      <th>num-of-doors</th>\n",
       "      <th>body-style</th>\n",
       "      <th>drive-wheels</th>\n",
       "      <th>engine-location</th>\n",
       "      <th>wheel-base</th>\n",
       "      <th>...</th>\n",
       "      <th>engine-size</th>\n",
       "      <th>fuel-system</th>\n",
       "      <th>bore</th>\n",
       "      <th>stroke</th>\n",
       "      <th>compression-ratio</th>\n",
       "      <th>horsepower</th>\n",
       "      <th>peak-rpm</th>\n",
       "      <th>city-mpg</th>\n",
       "      <th>highway-mpg</th>\n",
       "      <th>price</th>\n",
       "    </tr>\n",
       "  </thead>\n",
       "  <tbody>\n",
       "    <tr>\n",
       "      <th>0</th>\n",
       "      <td>3</td>\n",
       "      <td>122.0</td>\n",
       "      <td>alfa-romero</td>\n",
       "      <td>gas</td>\n",
       "      <td>std</td>\n",
       "      <td>two</td>\n",
       "      <td>convertible</td>\n",
       "      <td>rwd</td>\n",
       "      <td>front</td>\n",
       "      <td>88.6</td>\n",
       "      <td>...</td>\n",
       "      <td>130</td>\n",
       "      <td>mpfi</td>\n",
       "      <td>3.47</td>\n",
       "      <td>2.68</td>\n",
       "      <td>9.0</td>\n",
       "      <td>111.0</td>\n",
       "      <td>5000.0</td>\n",
       "      <td>21</td>\n",
       "      <td>27</td>\n",
       "      <td>13495.0</td>\n",
       "    </tr>\n",
       "    <tr>\n",
       "      <th>1</th>\n",
       "      <td>3</td>\n",
       "      <td>122.0</td>\n",
       "      <td>alfa-romero</td>\n",
       "      <td>gas</td>\n",
       "      <td>std</td>\n",
       "      <td>two</td>\n",
       "      <td>convertible</td>\n",
       "      <td>rwd</td>\n",
       "      <td>front</td>\n",
       "      <td>88.6</td>\n",
       "      <td>...</td>\n",
       "      <td>130</td>\n",
       "      <td>mpfi</td>\n",
       "      <td>3.47</td>\n",
       "      <td>2.68</td>\n",
       "      <td>9.0</td>\n",
       "      <td>111.0</td>\n",
       "      <td>5000.0</td>\n",
       "      <td>21</td>\n",
       "      <td>27</td>\n",
       "      <td>16500.0</td>\n",
       "    </tr>\n",
       "    <tr>\n",
       "      <th>2</th>\n",
       "      <td>1</td>\n",
       "      <td>122.0</td>\n",
       "      <td>alfa-romero</td>\n",
       "      <td>gas</td>\n",
       "      <td>std</td>\n",
       "      <td>two</td>\n",
       "      <td>hatchback</td>\n",
       "      <td>rwd</td>\n",
       "      <td>front</td>\n",
       "      <td>94.5</td>\n",
       "      <td>...</td>\n",
       "      <td>152</td>\n",
       "      <td>mpfi</td>\n",
       "      <td>2.68</td>\n",
       "      <td>3.47</td>\n",
       "      <td>9.0</td>\n",
       "      <td>154.0</td>\n",
       "      <td>5000.0</td>\n",
       "      <td>19</td>\n",
       "      <td>26</td>\n",
       "      <td>16500.0</td>\n",
       "    </tr>\n",
       "  </tbody>\n",
       "</table>\n",
       "<p>3 rows × 26 columns</p>\n",
       "</div>"
      ],
      "text/plain": [
       "   symboling  normalized-losses         make fuel-type aspiration  \\\n",
       "0          3              122.0  alfa-romero       gas        std   \n",
       "1          3              122.0  alfa-romero       gas        std   \n",
       "2          1              122.0  alfa-romero       gas        std   \n",
       "\n",
       "  num-of-doors   body-style drive-wheels engine-location  wheel-base  ...  \\\n",
       "0          two  convertible          rwd           front        88.6  ...   \n",
       "1          two  convertible          rwd           front        88.6  ...   \n",
       "2          two    hatchback          rwd           front        94.5  ...   \n",
       "\n",
       "   engine-size  fuel-system  bore  stroke compression-ratio horsepower  \\\n",
       "0          130         mpfi  3.47    2.68               9.0      111.0   \n",
       "1          130         mpfi  3.47    2.68               9.0      111.0   \n",
       "2          152         mpfi  2.68    3.47               9.0      154.0   \n",
       "\n",
       "   peak-rpm city-mpg  highway-mpg    price  \n",
       "0    5000.0       21           27  13495.0  \n",
       "1    5000.0       21           27  16500.0  \n",
       "2    5000.0       19           26  16500.0  \n",
       "\n",
       "[3 rows x 26 columns]"
      ]
     },
     "execution_count": 23,
     "metadata": {},
     "output_type": "execute_result"
    }
   ],
   "source": [
    "auto.head(3)"
   ]
  },
  {
   "cell_type": "code",
   "execution_count": 24,
   "id": "19408780",
   "metadata": {
    "scrolled": false
   },
   "outputs": [
    {
     "name": "stdout",
     "output_type": "stream",
     "text": [
      "<class 'pandas.core.frame.DataFrame'>\n",
      "RangeIndex: 201 entries, 0 to 200\n",
      "Data columns (total 24 columns):\n",
      " #   Column             Non-Null Count  Dtype  \n",
      "---  ------             --------------  -----  \n",
      " 0   make               201 non-null    object \n",
      " 1   fuel-type          201 non-null    object \n",
      " 2   aspiration         201 non-null    object \n",
      " 3   num-of-doors       201 non-null    object \n",
      " 4   body-style         201 non-null    object \n",
      " 5   drive-wheels       201 non-null    object \n",
      " 6   engine-location    201 non-null    object \n",
      " 7   wheel-base         201 non-null    float64\n",
      " 8   length             201 non-null    float64\n",
      " 9   width              201 non-null    float64\n",
      " 10  height             201 non-null    float64\n",
      " 11  curb-weight        201 non-null    int64  \n",
      " 12  engine-type        201 non-null    object \n",
      " 13  num-of-cylinders   201 non-null    object \n",
      " 14  engine-size        201 non-null    int64  \n",
      " 15  fuel-system        201 non-null    object \n",
      " 16  bore               201 non-null    float64\n",
      " 17  stroke             201 non-null    float64\n",
      " 18  compression-ratio  201 non-null    float64\n",
      " 19  horsepower         201 non-null    float64\n",
      " 20  peak-rpm           201 non-null    float64\n",
      " 21  city-mpg           201 non-null    int64  \n",
      " 22  highway-mpg        201 non-null    int64  \n",
      " 23  price              201 non-null    float64\n",
      "dtypes: float64(10), int64(4), object(10)\n",
      "memory usage: 37.8+ KB\n"
     ]
    }
   ],
   "source": [
    "auto= auto.iloc[:, 2:]\n",
    "auto.info()\n"
   ]
  },
  {
   "cell_type": "code",
   "execution_count": 27,
   "id": "a0698267",
   "metadata": {
    "scrolled": true
   },
   "outputs": [],
   "source": [
    "num_df = auto.select_dtypes(include=['int64','float'])\n",
    "cat_df = auto.select_dtypes(include=['object'])"
   ]
  },
  {
   "cell_type": "code",
   "execution_count": 28,
   "id": "ef1e60af",
   "metadata": {
    "scrolled": true
   },
   "outputs": [
    {
     "data": {
      "text/plain": [
       "<AxesSubplot:>"
      ]
     },
     "execution_count": 28,
     "metadata": {},
     "output_type": "execute_result"
    },
    {
     "data": {
      "image/png": "[encoded data removed]",
      "text/plain": [
       "<Figure size 1080x576 with 2 Axes>"
      ]
     },
     "metadata": {
      "needs_background": "light"
     },
     "output_type": "display_data"
    }
   ],
   "source": [
    "plt.subplots(figsize = (15,8))\n",
    "sns.heatmap(num_df.corr(),annot= True)"
   ]
  },
  {
   "cell_type": "code",
   "execution_count": 29,
   "id": "af7bd084",
   "metadata": {
    "scrolled": true
   },
   "outputs": [
    {
     "data": {
      "text/plain": [
       "compression-ratio    0.071107\n",
       "stroke               0.082209\n",
       "peak-rpm             0.102310\n",
       "height               0.135486\n",
       "bore                 0.543154\n",
       "wheel-base           0.584642\n",
       "city-mpg             0.686571\n",
       "length               0.690628\n",
       "highway-mpg          0.704692\n",
       "width                0.751265\n",
       "horsepower           0.810500\n",
       "curb-weight          0.834415\n",
       "engine-size          0.872335\n",
       "price                1.000000\n",
       "Name: price, dtype: float64"
      ]
     },
     "execution_count": 29,
     "metadata": {},
     "output_type": "execute_result"
    }
   ],
   "source": [
    "#Getting absolute values correlation coeff and sorting values\n",
    "num_corr_coff= num_df.corr()['price'].abs().sort_values()\n",
    "num_corr_coff"
   ]
  },
  {
   "cell_type": "code",
   "execution_count": 30,
   "id": "451f9dea",
   "metadata": {
    "scrolled": true
   },
   "outputs": [
    {
     "data": {
      "text/plain": [
       "bore           0.543154\n",
       "wheel-base     0.584642\n",
       "city-mpg       0.686571\n",
       "length         0.690628\n",
       "highway-mpg    0.704692\n",
       "width          0.751265\n",
       "horsepower     0.810500\n",
       "curb-weight    0.834415\n",
       "engine-size    0.872335\n",
       "price          1.000000\n",
       "Name: price, dtype: float64"
      ]
     },
     "execution_count": 30,
     "metadata": {},
     "output_type": "execute_result"
    }
   ],
   "source": [
    "#Let's only keep columns with a correlation coefficient larger than 0.5\n",
    "more_corr= num_corr_coff[num_corr_coff>0.5]\n",
    "more_corr"
   ]
  },
  {
   "cell_type": "code",
   "execution_count": 31,
   "id": "285b2b5b",
   "metadata": {
    "scrolled": true
   },
   "outputs": [],
   "source": [
    "#drop coloum with less that 0.5\n",
    "auto= auto.drop(num_corr_coff[num_corr_coff < 0.5].index, axis=1)\n"
   ]
  },
  {
   "cell_type": "code",
   "execution_count": 32,
   "id": "59bf8792",
   "metadata": {
    "scrolled": true
   },
   "outputs": [
    {
     "name": "stdout",
     "output_type": "stream",
     "text": [
      "UNIQUE VALUES: \n",
      "\n",
      "make : ['alfa-romero', 'audi', 'bmw', 'chevrolet', 'dodge', ..., 'saab', 'subaru', 'toyota', 'volkswagen', 'volvo']\n",
      "Length: 22\n",
      "Categories (22, object): ['alfa-romero', 'audi', 'bmw', 'chevrolet', ..., 'subaru', 'toyota', 'volkswagen', 'volvo']\n",
      "fuel-type : ['gas', 'diesel']\n",
      "Categories (2, object): ['gas', 'diesel']\n",
      "aspiration : ['std', 'turbo']\n",
      "Categories (2, object): ['std', 'turbo']\n",
      "num-of-doors : ['two', 'four']\n",
      "Categories (2, object): ['two', 'four']\n",
      "body-style : ['convertible', 'hatchback', 'sedan', 'wagon', 'hardtop']\n",
      "Categories (5, object): ['convertible', 'hatchback', 'sedan', 'wagon', 'hardtop']\n",
      "drive-wheels : ['rwd', 'fwd', '4wd']\n",
      "Categories (3, object): ['rwd', 'fwd', '4wd']\n",
      "engine-location : ['front', 'rear']\n",
      "Categories (2, object): ['front', 'rear']\n",
      "engine-type : ['dohc', 'ohcv', 'ohc', 'l', 'rotor', 'ohcf']\n",
      "Categories (6, object): ['dohc', 'ohcv', 'ohc', 'l', 'rotor', 'ohcf']\n",
      "num-of-cylinders : ['four', 'six', 'five', 'three', 'twelve', 'two', 'eight']\n",
      "Categories (7, object): ['four', 'six', 'five', 'three', 'twelve', 'two', 'eight']\n",
      "fuel-system : ['mpfi', '2bbl', 'mfi', '1bbl', 'spfi', '4bbl', 'idi', 'spdi']\n",
      "Categories (8, object): ['mpfi', '2bbl', 'mfi', '1bbl', 'spfi', '4bbl', 'idi', 'spdi']\n"
     ]
    }
   ],
   "source": [
    "#for analysis and prediction purpose category that contain\n",
    "#more than 10 unique value should be droped\n",
    "for col in cat_df:\n",
    "    cat_df[col]= cat_df[col].astype('category')\n",
    "print('UNIQUE VALUES: \\n')\n",
    "for i in cat_df.columns:\n",
    "    print(i, ':' , cat_df[i].unique())"
   ]
  },
  {
   "cell_type": "code",
   "execution_count": 34,
   "id": "a38b7239",
   "metadata": {
    "scrolled": true
   },
   "outputs": [
    {
     "data": {
      "text/html": [
       "<div>\n",
       "<style scoped>\n",
       "    .dataframe tbody tr th:only-of-type {\n",
       "        vertical-align: middle;\n",
       "    }\n",
       "\n",
       "    .dataframe tbody tr th {\n",
       "        vertical-align: top;\n",
       "    }\n",
       "\n",
       "    .dataframe thead th {\n",
       "        text-align: right;\n",
       "    }\n",
       "</style>\n",
       "<table border=\"1\" class=\"dataframe\">\n",
       "  <thead>\n",
       "    <tr style=\"text-align: right;\">\n",
       "      <th></th>\n",
       "      <th>make_audi</th>\n",
       "      <th>make_bmw</th>\n",
       "      <th>make_chevrolet</th>\n",
       "      <th>make_dodge</th>\n",
       "      <th>make_honda</th>\n",
       "      <th>make_isuzu</th>\n",
       "      <th>make_jaguar</th>\n",
       "      <th>make_mazda</th>\n",
       "      <th>make_mercedes-benz</th>\n",
       "      <th>make_mercury</th>\n",
       "      <th>...</th>\n",
       "      <th>num-of-cylinders_three</th>\n",
       "      <th>num-of-cylinders_twelve</th>\n",
       "      <th>num-of-cylinders_two</th>\n",
       "      <th>fuel-system_2bbl</th>\n",
       "      <th>fuel-system_4bbl</th>\n",
       "      <th>fuel-system_idi</th>\n",
       "      <th>fuel-system_mfi</th>\n",
       "      <th>fuel-system_mpfi</th>\n",
       "      <th>fuel-system_spdi</th>\n",
       "      <th>fuel-system_spfi</th>\n",
       "    </tr>\n",
       "  </thead>\n",
       "  <tbody>\n",
       "    <tr>\n",
       "      <th>0</th>\n",
       "      <td>0</td>\n",
       "      <td>0</td>\n",
       "      <td>0</td>\n",
       "      <td>0</td>\n",
       "      <td>0</td>\n",
       "      <td>0</td>\n",
       "      <td>0</td>\n",
       "      <td>0</td>\n",
       "      <td>0</td>\n",
       "      <td>0</td>\n",
       "      <td>...</td>\n",
       "      <td>0</td>\n",
       "      <td>0</td>\n",
       "      <td>0</td>\n",
       "      <td>0</td>\n",
       "      <td>0</td>\n",
       "      <td>0</td>\n",
       "      <td>0</td>\n",
       "      <td>1</td>\n",
       "      <td>0</td>\n",
       "      <td>0</td>\n",
       "    </tr>\n",
       "    <tr>\n",
       "      <th>1</th>\n",
       "      <td>0</td>\n",
       "      <td>0</td>\n",
       "      <td>0</td>\n",
       "      <td>0</td>\n",
       "      <td>0</td>\n",
       "      <td>0</td>\n",
       "      <td>0</td>\n",
       "      <td>0</td>\n",
       "      <td>0</td>\n",
       "      <td>0</td>\n",
       "      <td>...</td>\n",
       "      <td>0</td>\n",
       "      <td>0</td>\n",
       "      <td>0</td>\n",
       "      <td>0</td>\n",
       "      <td>0</td>\n",
       "      <td>0</td>\n",
       "      <td>0</td>\n",
       "      <td>1</td>\n",
       "      <td>0</td>\n",
       "      <td>0</td>\n",
       "    </tr>\n",
       "    <tr>\n",
       "      <th>2</th>\n",
       "      <td>0</td>\n",
       "      <td>0</td>\n",
       "      <td>0</td>\n",
       "      <td>0</td>\n",
       "      <td>0</td>\n",
       "      <td>0</td>\n",
       "      <td>0</td>\n",
       "      <td>0</td>\n",
       "      <td>0</td>\n",
       "      <td>0</td>\n",
       "      <td>...</td>\n",
       "      <td>0</td>\n",
       "      <td>0</td>\n",
       "      <td>0</td>\n",
       "      <td>0</td>\n",
       "      <td>0</td>\n",
       "      <td>0</td>\n",
       "      <td>0</td>\n",
       "      <td>1</td>\n",
       "      <td>0</td>\n",
       "      <td>0</td>\n",
       "    </tr>\n",
       "    <tr>\n",
       "      <th>3</th>\n",
       "      <td>1</td>\n",
       "      <td>0</td>\n",
       "      <td>0</td>\n",
       "      <td>0</td>\n",
       "      <td>0</td>\n",
       "      <td>0</td>\n",
       "      <td>0</td>\n",
       "      <td>0</td>\n",
       "      <td>0</td>\n",
       "      <td>0</td>\n",
       "      <td>...</td>\n",
       "      <td>0</td>\n",
       "      <td>0</td>\n",
       "      <td>0</td>\n",
       "      <td>0</td>\n",
       "      <td>0</td>\n",
       "      <td>0</td>\n",
       "      <td>0</td>\n",
       "      <td>1</td>\n",
       "      <td>0</td>\n",
       "      <td>0</td>\n",
       "    </tr>\n",
       "    <tr>\n",
       "      <th>4</th>\n",
       "      <td>1</td>\n",
       "      <td>0</td>\n",
       "      <td>0</td>\n",
       "      <td>0</td>\n",
       "      <td>0</td>\n",
       "      <td>0</td>\n",
       "      <td>0</td>\n",
       "      <td>0</td>\n",
       "      <td>0</td>\n",
       "      <td>0</td>\n",
       "      <td>...</td>\n",
       "      <td>0</td>\n",
       "      <td>0</td>\n",
       "      <td>0</td>\n",
       "      <td>0</td>\n",
       "      <td>0</td>\n",
       "      <td>0</td>\n",
       "      <td>0</td>\n",
       "      <td>1</td>\n",
       "      <td>0</td>\n",
       "      <td>0</td>\n",
       "    </tr>\n",
       "  </tbody>\n",
       "</table>\n",
       "<p>5 rows × 49 columns</p>\n",
       "</div>"
      ],
      "text/plain": [
       "   make_audi  make_bmw  make_chevrolet  make_dodge  make_honda  make_isuzu  \\\n",
       "0          0         0               0           0           0           0   \n",
       "1          0         0               0           0           0           0   \n",
       "2          0         0               0           0           0           0   \n",
       "3          1         0               0           0           0           0   \n",
       "4          1         0               0           0           0           0   \n",
       "\n",
       "   make_jaguar  make_mazda  make_mercedes-benz  make_mercury  ...  \\\n",
       "0            0           0                   0             0  ...   \n",
       "1            0           0                   0             0  ...   \n",
       "2            0           0                   0             0  ...   \n",
       "3            0           0                   0             0  ...   \n",
       "4            0           0                   0             0  ...   \n",
       "\n",
       "   num-of-cylinders_three  num-of-cylinders_twelve  num-of-cylinders_two  \\\n",
       "0                       0                        0                     0   \n",
       "1                       0                        0                     0   \n",
       "2                       0                        0                     0   \n",
       "3                       0                        0                     0   \n",
       "4                       0                        0                     0   \n",
       "\n",
       "   fuel-system_2bbl  fuel-system_4bbl  fuel-system_idi  fuel-system_mfi  \\\n",
       "0                 0                 0                0                0   \n",
       "1                 0                 0                0                0   \n",
       "2                 0                 0                0                0   \n",
       "3                 0                 0                0                0   \n",
       "4                 0                 0                0                0   \n",
       "\n",
       "   fuel-system_mpfi  fuel-system_spdi  fuel-system_spfi  \n",
       "0                 1                 0                 0  \n",
       "1                 1                 0                 0  \n",
       "2                 1                 0                 0  \n",
       "3                 1                 0                 0  \n",
       "4                 1                 0                 0  \n",
       "\n",
       "[5 rows x 49 columns]"
      ]
     },
     "execution_count": 34,
     "metadata": {},
     "output_type": "execute_result"
    }
   ],
   "source": [
    "#as we can see is inappropiate to drop the make column cause the price depend on it\n",
    "\n",
    "cat_dummies= pd.get_dummies(cat_df, drop_first=True)\n",
    "cat_dummies.head() # why did you drop the first"
   ]
  },
  {
   "cell_type": "code",
   "execution_count": 36,
   "id": "7ac3266f",
   "metadata": {
    "scrolled": true
   },
   "outputs": [
    {
     "data": {
      "text/html": [
       "<div>\n",
       "<style scoped>\n",
       "    .dataframe tbody tr th:only-of-type {\n",
       "        vertical-align: middle;\n",
       "    }\n",
       "\n",
       "    .dataframe tbody tr th {\n",
       "        vertical-align: top;\n",
       "    }\n",
       "\n",
       "    .dataframe thead th {\n",
       "        text-align: right;\n",
       "    }\n",
       "</style>\n",
       "<table border=\"1\" class=\"dataframe\">\n",
       "  <thead>\n",
       "    <tr style=\"text-align: right;\">\n",
       "      <th></th>\n",
       "      <th>wheel-base</th>\n",
       "      <th>length</th>\n",
       "      <th>width</th>\n",
       "      <th>curb-weight</th>\n",
       "      <th>engine-size</th>\n",
       "      <th>bore</th>\n",
       "      <th>horsepower</th>\n",
       "      <th>city-mpg</th>\n",
       "      <th>highway-mpg</th>\n",
       "      <th>price</th>\n",
       "    </tr>\n",
       "  </thead>\n",
       "  <tbody>\n",
       "    <tr>\n",
       "      <th>0</th>\n",
       "      <td>88.6</td>\n",
       "      <td>168.8</td>\n",
       "      <td>64.1</td>\n",
       "      <td>2548</td>\n",
       "      <td>130</td>\n",
       "      <td>3.47</td>\n",
       "      <td>111.0</td>\n",
       "      <td>21</td>\n",
       "      <td>27</td>\n",
       "      <td>13495.0</td>\n",
       "    </tr>\n",
       "    <tr>\n",
       "      <th>1</th>\n",
       "      <td>88.6</td>\n",
       "      <td>168.8</td>\n",
       "      <td>64.1</td>\n",
       "      <td>2548</td>\n",
       "      <td>130</td>\n",
       "      <td>3.47</td>\n",
       "      <td>111.0</td>\n",
       "      <td>21</td>\n",
       "      <td>27</td>\n",
       "      <td>16500.0</td>\n",
       "    </tr>\n",
       "    <tr>\n",
       "      <th>2</th>\n",
       "      <td>94.5</td>\n",
       "      <td>171.2</td>\n",
       "      <td>65.5</td>\n",
       "      <td>2823</td>\n",
       "      <td>152</td>\n",
       "      <td>2.68</td>\n",
       "      <td>154.0</td>\n",
       "      <td>19</td>\n",
       "      <td>26</td>\n",
       "      <td>16500.0</td>\n",
       "    </tr>\n",
       "    <tr>\n",
       "      <th>3</th>\n",
       "      <td>99.8</td>\n",
       "      <td>176.6</td>\n",
       "      <td>66.2</td>\n",
       "      <td>2337</td>\n",
       "      <td>109</td>\n",
       "      <td>3.19</td>\n",
       "      <td>102.0</td>\n",
       "      <td>24</td>\n",
       "      <td>30</td>\n",
       "      <td>13950.0</td>\n",
       "    </tr>\n",
       "    <tr>\n",
       "      <th>4</th>\n",
       "      <td>99.4</td>\n",
       "      <td>176.6</td>\n",
       "      <td>66.4</td>\n",
       "      <td>2824</td>\n",
       "      <td>136</td>\n",
       "      <td>3.19</td>\n",
       "      <td>115.0</td>\n",
       "      <td>18</td>\n",
       "      <td>22</td>\n",
       "      <td>17450.0</td>\n",
       "    </tr>\n",
       "    <tr>\n",
       "      <th>...</th>\n",
       "      <td>...</td>\n",
       "      <td>...</td>\n",
       "      <td>...</td>\n",
       "      <td>...</td>\n",
       "      <td>...</td>\n",
       "      <td>...</td>\n",
       "      <td>...</td>\n",
       "      <td>...</td>\n",
       "      <td>...</td>\n",
       "      <td>...</td>\n",
       "    </tr>\n",
       "    <tr>\n",
       "      <th>196</th>\n",
       "      <td>109.1</td>\n",
       "      <td>188.8</td>\n",
       "      <td>68.9</td>\n",
       "      <td>2952</td>\n",
       "      <td>141</td>\n",
       "      <td>3.78</td>\n",
       "      <td>114.0</td>\n",
       "      <td>23</td>\n",
       "      <td>28</td>\n",
       "      <td>16845.0</td>\n",
       "    </tr>\n",
       "    <tr>\n",
       "      <th>197</th>\n",
       "      <td>109.1</td>\n",
       "      <td>188.8</td>\n",
       "      <td>68.8</td>\n",
       "      <td>3049</td>\n",
       "      <td>141</td>\n",
       "      <td>3.78</td>\n",
       "      <td>160.0</td>\n",
       "      <td>19</td>\n",
       "      <td>25</td>\n",
       "      <td>19045.0</td>\n",
       "    </tr>\n",
       "    <tr>\n",
       "      <th>198</th>\n",
       "      <td>109.1</td>\n",
       "      <td>188.8</td>\n",
       "      <td>68.9</td>\n",
       "      <td>3012</td>\n",
       "      <td>173</td>\n",
       "      <td>3.58</td>\n",
       "      <td>134.0</td>\n",
       "      <td>18</td>\n",
       "      <td>23</td>\n",
       "      <td>21485.0</td>\n",
       "    </tr>\n",
       "    <tr>\n",
       "      <th>199</th>\n",
       "      <td>109.1</td>\n",
       "      <td>188.8</td>\n",
       "      <td>68.9</td>\n",
       "      <td>3217</td>\n",
       "      <td>145</td>\n",
       "      <td>3.01</td>\n",
       "      <td>106.0</td>\n",
       "      <td>26</td>\n",
       "      <td>27</td>\n",
       "      <td>22470.0</td>\n",
       "    </tr>\n",
       "    <tr>\n",
       "      <th>200</th>\n",
       "      <td>109.1</td>\n",
       "      <td>188.8</td>\n",
       "      <td>68.9</td>\n",
       "      <td>3062</td>\n",
       "      <td>141</td>\n",
       "      <td>3.78</td>\n",
       "      <td>114.0</td>\n",
       "      <td>19</td>\n",
       "      <td>25</td>\n",
       "      <td>22625.0</td>\n",
       "    </tr>\n",
       "  </tbody>\n",
       "</table>\n",
       "<p>201 rows × 10 columns</p>\n",
       "</div>"
      ],
      "text/plain": [
       "     wheel-base  length  width  curb-weight  engine-size  bore  horsepower  \\\n",
       "0          88.6   168.8   64.1         2548          130  3.47       111.0   \n",
       "1          88.6   168.8   64.1         2548          130  3.47       111.0   \n",
       "2          94.5   171.2   65.5         2823          152  2.68       154.0   \n",
       "3          99.8   176.6   66.2         2337          109  3.19       102.0   \n",
       "4          99.4   176.6   66.4         2824          136  3.19       115.0   \n",
       "..          ...     ...    ...          ...          ...   ...         ...   \n",
       "196       109.1   188.8   68.9         2952          141  3.78       114.0   \n",
       "197       109.1   188.8   68.8         3049          141  3.78       160.0   \n",
       "198       109.1   188.8   68.9         3012          173  3.58       134.0   \n",
       "199       109.1   188.8   68.9         3217          145  3.01       106.0   \n",
       "200       109.1   188.8   68.9         3062          141  3.78       114.0   \n",
       "\n",
       "     city-mpg  highway-mpg    price  \n",
       "0          21           27  13495.0  \n",
       "1          21           27  16500.0  \n",
       "2          19           26  16500.0  \n",
       "3          24           30  13950.0  \n",
       "4          18           22  17450.0  \n",
       "..        ...          ...      ...  \n",
       "196        23           28  16845.0  \n",
       "197        19           25  19045.0  \n",
       "198        18           23  21485.0  \n",
       "199        26           27  22470.0  \n",
       "200        19           25  22625.0  \n",
       "\n",
       "[201 rows x 10 columns]"
      ]
     },
     "execution_count": 36,
     "metadata": {},
     "output_type": "execute_result"
    }
   ],
   "source": [
    "auto= auto.drop(cat_df.columns, axis=1)\n",
    "auto"
   ]
  },
  {
   "cell_type": "code",
   "execution_count": 37,
   "id": "c462449d",
   "metadata": {
    "scrolled": true
   },
   "outputs": [
    {
     "data": {
      "text/html": [
       "<div>\n",
       "<style scoped>\n",
       "    .dataframe tbody tr th:only-of-type {\n",
       "        vertical-align: middle;\n",
       "    }\n",
       "\n",
       "    .dataframe tbody tr th {\n",
       "        vertical-align: top;\n",
       "    }\n",
       "\n",
       "    .dataframe thead th {\n",
       "        text-align: right;\n",
       "    }\n",
       "</style>\n",
       "<table border=\"1\" class=\"dataframe\">\n",
       "  <thead>\n",
       "    <tr style=\"text-align: right;\">\n",
       "      <th></th>\n",
       "      <th>make_audi</th>\n",
       "      <th>make_bmw</th>\n",
       "      <th>make_chevrolet</th>\n",
       "      <th>make_dodge</th>\n",
       "      <th>make_honda</th>\n",
       "      <th>make_isuzu</th>\n",
       "      <th>make_jaguar</th>\n",
       "      <th>make_mazda</th>\n",
       "      <th>make_mercedes-benz</th>\n",
       "      <th>make_mercury</th>\n",
       "      <th>...</th>\n",
       "      <th>wheel-base</th>\n",
       "      <th>length</th>\n",
       "      <th>width</th>\n",
       "      <th>curb-weight</th>\n",
       "      <th>engine-size</th>\n",
       "      <th>bore</th>\n",
       "      <th>horsepower</th>\n",
       "      <th>city-mpg</th>\n",
       "      <th>highway-mpg</th>\n",
       "      <th>price</th>\n",
       "    </tr>\n",
       "  </thead>\n",
       "  <tbody>\n",
       "    <tr>\n",
       "      <th>0</th>\n",
       "      <td>0</td>\n",
       "      <td>0</td>\n",
       "      <td>0</td>\n",
       "      <td>0</td>\n",
       "      <td>0</td>\n",
       "      <td>0</td>\n",
       "      <td>0</td>\n",
       "      <td>0</td>\n",
       "      <td>0</td>\n",
       "      <td>0</td>\n",
       "      <td>...</td>\n",
       "      <td>88.6</td>\n",
       "      <td>168.8</td>\n",
       "      <td>64.1</td>\n",
       "      <td>2548</td>\n",
       "      <td>130</td>\n",
       "      <td>3.47</td>\n",
       "      <td>111.0</td>\n",
       "      <td>21</td>\n",
       "      <td>27</td>\n",
       "      <td>13495.0</td>\n",
       "    </tr>\n",
       "    <tr>\n",
       "      <th>1</th>\n",
       "      <td>0</td>\n",
       "      <td>0</td>\n",
       "      <td>0</td>\n",
       "      <td>0</td>\n",
       "      <td>0</td>\n",
       "      <td>0</td>\n",
       "      <td>0</td>\n",
       "      <td>0</td>\n",
       "      <td>0</td>\n",
       "      <td>0</td>\n",
       "      <td>...</td>\n",
       "      <td>88.6</td>\n",
       "      <td>168.8</td>\n",
       "      <td>64.1</td>\n",
       "      <td>2548</td>\n",
       "      <td>130</td>\n",
       "      <td>3.47</td>\n",
       "      <td>111.0</td>\n",
       "      <td>21</td>\n",
       "      <td>27</td>\n",
       "      <td>16500.0</td>\n",
       "    </tr>\n",
       "    <tr>\n",
       "      <th>2</th>\n",
       "      <td>0</td>\n",
       "      <td>0</td>\n",
       "      <td>0</td>\n",
       "      <td>0</td>\n",
       "      <td>0</td>\n",
       "      <td>0</td>\n",
       "      <td>0</td>\n",
       "      <td>0</td>\n",
       "      <td>0</td>\n",
       "      <td>0</td>\n",
       "      <td>...</td>\n",
       "      <td>94.5</td>\n",
       "      <td>171.2</td>\n",
       "      <td>65.5</td>\n",
       "      <td>2823</td>\n",
       "      <td>152</td>\n",
       "      <td>2.68</td>\n",
       "      <td>154.0</td>\n",
       "      <td>19</td>\n",
       "      <td>26</td>\n",
       "      <td>16500.0</td>\n",
       "    </tr>\n",
       "    <tr>\n",
       "      <th>3</th>\n",
       "      <td>1</td>\n",
       "      <td>0</td>\n",
       "      <td>0</td>\n",
       "      <td>0</td>\n",
       "      <td>0</td>\n",
       "      <td>0</td>\n",
       "      <td>0</td>\n",
       "      <td>0</td>\n",
       "      <td>0</td>\n",
       "      <td>0</td>\n",
       "      <td>...</td>\n",
       "      <td>99.8</td>\n",
       "      <td>176.6</td>\n",
       "      <td>66.2</td>\n",
       "      <td>2337</td>\n",
       "      <td>109</td>\n",
       "      <td>3.19</td>\n",
       "      <td>102.0</td>\n",
       "      <td>24</td>\n",
       "      <td>30</td>\n",
       "      <td>13950.0</td>\n",
       "    </tr>\n",
       "    <tr>\n",
       "      <th>4</th>\n",
       "      <td>1</td>\n",
       "      <td>0</td>\n",
       "      <td>0</td>\n",
       "      <td>0</td>\n",
       "      <td>0</td>\n",
       "      <td>0</td>\n",
       "      <td>0</td>\n",
       "      <td>0</td>\n",
       "      <td>0</td>\n",
       "      <td>0</td>\n",
       "      <td>...</td>\n",
       "      <td>99.4</td>\n",
       "      <td>176.6</td>\n",
       "      <td>66.4</td>\n",
       "      <td>2824</td>\n",
       "      <td>136</td>\n",
       "      <td>3.19</td>\n",
       "      <td>115.0</td>\n",
       "      <td>18</td>\n",
       "      <td>22</td>\n",
       "      <td>17450.0</td>\n",
       "    </tr>\n",
       "  </tbody>\n",
       "</table>\n",
       "<p>5 rows × 59 columns</p>\n",
       "</div>"
      ],
      "text/plain": [
       "   make_audi  make_bmw  make_chevrolet  make_dodge  make_honda  make_isuzu  \\\n",
       "0          0         0               0           0           0           0   \n",
       "1          0         0               0           0           0           0   \n",
       "2          0         0               0           0           0           0   \n",
       "3          1         0               0           0           0           0   \n",
       "4          1         0               0           0           0           0   \n",
       "\n",
       "   make_jaguar  make_mazda  make_mercedes-benz  make_mercury  ...  wheel-base  \\\n",
       "0            0           0                   0             0  ...        88.6   \n",
       "1            0           0                   0             0  ...        88.6   \n",
       "2            0           0                   0             0  ...        94.5   \n",
       "3            0           0                   0             0  ...        99.8   \n",
       "4            0           0                   0             0  ...        99.4   \n",
       "\n",
       "   length  width  curb-weight  engine-size  bore  horsepower  city-mpg  \\\n",
       "0   168.8   64.1         2548          130  3.47       111.0        21   \n",
       "1   168.8   64.1         2548          130  3.47       111.0        21   \n",
       "2   171.2   65.5         2823          152  2.68       154.0        19   \n",
       "3   176.6   66.2         2337          109  3.19       102.0        24   \n",
       "4   176.6   66.4         2824          136  3.19       115.0        18   \n",
       "\n",
       "   highway-mpg    price  \n",
       "0           27  13495.0  \n",
       "1           27  16500.0  \n",
       "2           26  16500.0  \n",
       "3           30  13950.0  \n",
       "4           22  17450.0  \n",
       "\n",
       "[5 rows x 59 columns]"
      ]
     },
     "execution_count": 37,
     "metadata": {},
     "output_type": "execute_result"
    }
   ],
   "source": [
    "#now i can concact catdummies and auto\n",
    "auto= pd.concat([cat_dummies,auto] ,axis=1)\n",
    "auto.head()"
   ]
  },
  {
   "cell_type": "code",
   "execution_count": null,
   "id": "e0fc1f3a",
   "metadata": {
    "scrolled": true
   },
   "outputs": [],
   "source": []
  },
  {
   "cell_type": "code",
   "execution_count": 38,
   "id": "78a02428",
   "metadata": {
    "scrolled": true
   },
   "outputs": [
    {
     "name": "stdout",
     "output_type": "stream",
     "text": [
      "(201, 58)\n",
      "(201, 1)\n"
     ]
    }
   ],
   "source": [
    "#seperating into input and output\n",
    "x= auto.iloc[:,:-1]\n",
    "print(x.shape)\n",
    "y= auto.iloc[:,-1:]\n",
    "print(y.shape)"
   ]
  },
  {
   "cell_type": "code",
   "execution_count": 39,
   "id": "0194857c",
   "metadata": {
    "scrolled": true
   },
   "outputs": [
    {
     "name": "stdout",
     "output_type": "stream",
     "text": [
      "(120, 58)\n",
      "(120, 1)\n",
      "(81, 58)\n",
      "(81, 1)\n"
     ]
    }
   ],
   "source": [
    "from sklearn.model_selection import train_test_split\n",
    "x_train,x_test,y_train,y_test= train_test_split(x,y,test_size=0.4, random_state=100)\n",
    "print(x_train.shape)\n",
    "print(y_train.shape)\n",
    "print(x_test.shape)\n",
    "print(y_test.shape)"
   ]
  },
  {
   "cell_type": "code",
   "execution_count": 40,
   "id": "1b0cd534",
   "metadata": {
    "scrolled": true
   },
   "outputs": [],
   "source": [
    "from sklearn.linear_model import LinearRegression\n",
    "from sklearn import metrics\n"
   ]
  },
  {
   "cell_type": "code",
   "execution_count": 41,
   "id": "4da93c81",
   "metadata": {
    "scrolled": true
   },
   "outputs": [],
   "source": [
    "#ValueError: Input contains NaN, infinity or a value too large for dtype('float64').\n",
    "#categorical_df['num-of-doors'].fillna(categorical_df['num-of-doors'].mode()[0],inplace=True)\n"
   ]
  },
  {
   "cell_type": "code",
   "execution_count": 52,
   "id": "33c1b316",
   "metadata": {
    "scrolled": false
   },
   "outputs": [
    {
     "data": {
      "text/plain": [
       "LinearRegression()"
      ]
     },
     "execution_count": 52,
     "metadata": {},
     "output_type": "execute_result"
    }
   ],
   "source": [
    "model= LinearRegression()\n",
    "model.fit(x_train,y_train)"
   ]
  },
  {
   "cell_type": "code",
   "execution_count": 46,
   "id": "84a79de8",
   "metadata": {
    "scrolled": true
   },
   "outputs": [
    {
     "data": {
      "text/plain": [
       "0.9732819172681122"
      ]
     },
     "execution_count": 46,
     "metadata": {},
     "output_type": "execute_result"
    }
   ],
   "source": [
    "train_predict = model.predict(x_train)\n",
    "\n",
    "metrics.r2_score(train_predict,y_train)"
   ]
  },
  {
   "cell_type": "code",
   "execution_count": 48,
   "id": "b2cf3feb",
   "metadata": {},
   "outputs": [
    {
     "data": {
      "text/plain": [
       "0.8889144040033468"
      ]
     },
     "execution_count": 48,
     "metadata": {},
     "output_type": "execute_result"
    }
   ],
   "source": [
    "test_predict= model.predict(x_test)\n",
    "metrics.r2_score(test_predict,y_test)"
   ]
  },
  {
   "cell_type": "code",
   "execution_count": 49,
   "id": "cfbcdc7c",
   "metadata": {},
   "outputs": [
    {
     "data": {
      "text/plain": [
       "<AxesSubplot:xlabel='price'>"
      ]
     },
     "execution_count": 49,
     "metadata": {},
     "output_type": "execute_result"
    },
    {
     "data": {
      "image/png": "[encoded data removed]",
      "text/plain": [
       "<Figure size 720x360 with 1 Axes>"
      ]
     },
     "metadata": {
      "needs_background": "light"
     },
     "output_type": "display_data"
    }
   ],
   "source": [
    "plt.subplots(figsize = (10,5))\n",
    "sns.regplot(y_test, test_predict)"
   ]
  },
  {
   "cell_type": "code",
   "execution_count": 50,
   "id": "1eba6769",
   "metadata": {},
   "outputs": [],
   "source": [
    "#recursive feature elimination with cross validation\n",
    "from sklearn.feature_selection import RFECV"
   ]
  },
  {
   "cell_type": "code",
   "execution_count": 70,
   "id": "2cf4ab1c",
   "metadata": {},
   "outputs": [
    {
     "name": "stdout",
     "output_type": "stream",
     "text": [
      "\n",
      "RFECV(cv=7, estimator=LinearRegression(), scoring='neg_mean_squared_error')\n",
      "\n",
      "45\n"
     ]
    }
   ],
   "source": [
    "linear= LinearRegression()\n",
    "# Create recursive feature eliminator that scores features by mean squared errors\n",
    "rfecv = RFECV(estimator= linear, step=1, scoring='neg_mean_squared_error', cv=7)\n",
    "\n",
    "# Fit recursive feature eliminator \n",
    "rfecv.fit(x_train, y_train)\n",
    "\n",
    "# Number of best features\n",
    "print(); print(rfecv)\n",
    "print(); print(rfecv.n_features_)\n"
   ]
  },
  {
   "cell_type": "code",
   "execution_count": 71,
   "id": "45cb833e",
   "metadata": {},
   "outputs": [
    {
     "name": "stdout",
     "output_type": "stream",
     "text": [
      "Best features : Index(['make_bmw', 'make_dodge', 'make_honda', 'make_isuzu', 'make_jaguar',\n",
      "       'make_mazda', 'make_mercedes-benz', 'make_mercury', 'make_mitsubishi',\n",
      "       'make_nissan', 'make_peugot', 'make_plymouth', 'make_porsche',\n",
      "       'make_saab', 'make_subaru', 'make_toyota', 'make_volkswagen',\n",
      "       'make_volvo', 'fuel-type_gas', 'aspiration_turbo', 'num-of-doors_two',\n",
      "       'body-style_hatchback', 'body-style_sedan', 'body-style_wagon',\n",
      "       'drive-wheels_fwd', 'drive-wheels_rwd', 'engine-location_rear',\n",
      "       'engine-type_l', 'engine-type_ohc', 'engine-type_ohcf',\n",
      "       'engine-type_ohcv', 'engine-type_rotor', 'num-of-cylinders_five',\n",
      "       'num-of-cylinders_four', 'num-of-cylinders_six',\n",
      "       'num-of-cylinders_three', 'num-of-cylinders_two', 'fuel-system_2bbl',\n",
      "       'fuel-system_idi', 'fuel-system_mpfi', 'fuel-system_spdi',\n",
      "       'fuel-system_spfi', 'width', 'bore', 'city-mpg'],\n",
      "      dtype='object')\n"
     ]
    }
   ],
   "source": [
    "print('Best features :', x_train.columns[rfecv.support_])"
   ]
  },
  {
   "cell_type": "code",
   "execution_count": 72,
   "id": "651af92d",
   "metadata": {},
   "outputs": [],
   "source": [
    "x_train_rfecv = rfecv.transform(x_train)\n",
    "x_test_rfecv = rfecv.transform(x_test)   \n",
    "\n",
    "# as rfecv will work only dataset with same number of features so we transform x_test"
   ]
  },
  {
   "cell_type": "code",
   "execution_count": 73,
   "id": "5d9b9cb0",
   "metadata": {},
   "outputs": [
    {
     "data": {
      "text/plain": [
       "LinearRegression()"
      ]
     },
     "execution_count": 73,
     "metadata": {},
     "output_type": "execute_result"
    }
   ],
   "source": [
    "linear.fit(x_test_rfecv, y_test)\n"
   ]
  },
  {
   "cell_type": "code",
   "execution_count": 74,
   "id": "98ded0ad",
   "metadata": {},
   "outputs": [
    {
     "data": {
      "text/plain": [
       "0.9368421099046255"
      ]
     },
     "execution_count": 74,
     "metadata": {},
     "output_type": "execute_result"
    }
   ],
   "source": [
    "test_predict = linear.predict(x_test_rfecv)\n",
    "metrics.r2_score(test_predict, y_test)"
   ]
  },
  {
   "cell_type": "code",
   "execution_count": 75,
   "id": "413405d6",
   "metadata": {},
   "outputs": [
    {
     "data": {
      "text/plain": [
       "<AxesSubplot:xlabel='price'>"
      ]
     },
     "execution_count": 75,
     "metadata": {},
     "output_type": "execute_result"
    },
    {
     "data": {
      "image/png": "[encoded data removed]",
      "text/plain": [
       "<Figure size 720x360 with 1 Axes>"
      ]
     },
     "metadata": {
      "needs_background": "light"
     },
     "output_type": "display_data"
    }
   ],
   "source": [
    "plt.subplots(figsize = (10,5))\n",
    "sns.regplot(y_test, test_predict)"
   ]
  },
  {
   "cell_type": "code",
   "execution_count": null,
   "id": "60db8b11",
   "metadata": {},
   "outputs": [],
   "source": []
  },
  {
   "cell_type": "code",
   "execution_count": null,
   "id": "f9336265",
   "metadata": {},
   "outputs": [],
   "source": []
  }
 ],
 "metadata": {
  "celltoolbar": "Attachments",
  "kernelspec": {
   "display_name": "Python 3",
   "language": "python",
   "name": "python3"
  },
  "language_info": {
   "codemirror_mode": {
    "name": "ipython",
    "version": 3
   },
   "file_extension": ".py",
   "mimetype": "text/x-python",
   "name": "python",
   "nbconvert_exporter": "python",
   "pygments_lexer": "ipython3",
   "version": "3.8.8"
  }
 },
 "nbformat": 4,
 "nbformat_minor": 5
}
